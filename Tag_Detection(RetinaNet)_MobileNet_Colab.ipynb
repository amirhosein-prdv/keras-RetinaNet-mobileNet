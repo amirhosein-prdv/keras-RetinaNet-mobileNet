{
  "cells": [
    {
      "cell_type": "markdown",
      "metadata": {
        "id": "Qd00bnYneNEo"
      },
      "source": [
        " ### Table of Contents\n",
        "\n",
        "* [Prepare Dataset](#chapter1)\n",
        "    * [Build RetinaNet Lib](#section_1_1)\n",
        "    * [Install Requirements and Pretrain-Model](section_1_2)\n",
        "\n",
        "* [Train Model](#chapter2)\n",
        "    * [Compile model into inference model](#section_2_1)\n",
        "    \n",
        "* [Test model on test-picture](#chapter3)\n",
        "    * [check model loss plot with TensorBoard](#section_3_1)"
      ]
    },
    {
      "cell_type": "markdown",
      "metadata": {
        "id": "_cXSxBaGeNK3"
      },
      "source": [
        "# Prepare Dataset  <a class=\"anchor\" id=\"chapter1\"></a>"
      ]
    },
    {
      "cell_type": "code",
      "execution_count": 1,
      "metadata": {
        "id": "HIxLP2hRJjRy",
        "colab": {
          "base_uri": "https://localhost:8080/"
        },
        "outputId": "e91629ab-0c56-45bd-92c3-f8193ddd4c4b"
      },
      "outputs": [
        {
          "output_type": "stream",
          "name": "stdout",
          "text": [
            "Mounted at /content/gdrive\n"
          ]
        }
      ],
      "source": [
        "from google.colab import drive\n",
        "drive.mount('/content/gdrive')"
      ]
    },
    {
      "cell_type": "code",
      "source": [
        "import shutil\n",
        "shutil.copy(\"/content/gdrive/MyDrive/Sarveen Tech/tag_dataset.zip\", '/content')"
      ],
      "metadata": {
        "id": "8leYtk4G6HxV"
      },
      "execution_count": null,
      "outputs": []
    },
    {
      "cell_type": "code",
      "source": [
        "! gdown https://drive.google.com/u/0/uc?id=1eJEiL7P6krt66NWC6R4N9XpthulnCGKL&export=download"
      ],
      "metadata": {
        "colab": {
          "base_uri": "https://localhost:8080/"
        },
        "id": "_sjEHZW3jSNz",
        "outputId": "396ba82e-47ff-4b3c-9154-337e956fed19"
      },
      "execution_count": 4,
      "outputs": [
        {
          "output_type": "stream",
          "name": "stdout",
          "text": [
            "Downloading...\n",
            "From: https://drive.google.com/u/0/uc?id=1eJEiL7P6krt66NWC6R4N9XpthulnCGKL\n",
            "To: /content/tag_dataset.zip\n",
            "100% 174M/174M [00:02<00:00, 80.7MB/s]\n"
          ]
        }
      ]
    },
    {
      "cell_type": "code",
      "source": [
        "! git clone -b Colab https://github.com/amirhosein-prdv/keras-RetinaNet-mobileNet.git code"
      ],
      "metadata": {
        "id": "__rrM19gm4K_",
        "colab": {
          "base_uri": "https://localhost:8080/"
        },
        "outputId": "045fcd51-f030-46db-8f87-47635f39d653"
      },
      "execution_count": 5,
      "outputs": [
        {
          "output_type": "stream",
          "name": "stdout",
          "text": [
            "Cloning into 'code'...\n",
            "remote: Enumerating objects: 418, done.\u001b[K\n",
            "remote: Counting objects: 100% (9/9), done.\u001b[K\n",
            "remote: Compressing objects: 100% (6/6), done.\u001b[K\n",
            "remote: Total 418 (delta 4), reused 8 (delta 3), pack-reused 409\u001b[K\n",
            "Receiving objects: 100% (418/418), 52.54 MiB | 34.03 MiB/s, done.\n",
            "Resolving deltas: 100% (220/220), done.\n"
          ]
        }
      ]
    },
    {
      "cell_type": "code",
      "execution_count": 6,
      "metadata": {
        "id": "i9jOB_1YNIPX"
      },
      "outputs": [],
      "source": [
        "from zipfile import ZipFile\n",
        "\n",
        "with ZipFile('tag_dataset.zip', 'r') as zipObj:  \n",
        "   # Extract all the contents of zip file in current directory\n",
        "   zipObj.extractall(\"/content/code/dataset\")\n"
      ]
    },
    {
      "cell_type": "code",
      "source": [
        "! git pull"
      ],
      "metadata": {
        "id": "jK6ucV18M3Tf",
        "colab": {
          "base_uri": "https://localhost:8080/"
        },
        "outputId": "38ea1c5f-b2d9-4f8e-fee8-5b2472e79835"
      },
      "execution_count": 7,
      "outputs": [
        {
          "output_type": "stream",
          "name": "stdout",
          "text": [
            "fatal: not a git repository (or any of the parent directories): .git\n"
          ]
        }
      ]
    },
    {
      "cell_type": "code",
      "execution_count": 8,
      "metadata": {
        "id": "lQn6DgMsWcWW"
      },
      "outputs": [],
      "source": [
        "import glob as g\n",
        "for i in g.glob('/content/Data/train/*.jpg'):\n",
        "    shutil.copy(i, '/content/code/dataset/images')\n",
        "for i in g.glob('/content/Data/test/*.jpg'):\n",
        "    shutil.copy(i, '/content/code/dataset/images')\n",
        "for i in g.glob('/content/Data/train/*.xml'):\n",
        "    shutil.copy(i, '/content/code/dataset/annotations')\n",
        "for i in g.glob('/content/Data/test/*.xml'):\n",
        "    shutil.copy(i, '/content/code/dataset/annotations')"
      ]
    },
    {
      "cell_type": "code",
      "execution_count": 9,
      "metadata": {
        "id": "dMOn1M6PWpq1",
        "colab": {
          "base_uri": "https://localhost:8080/"
        },
        "outputId": "5a43ad89-4d3f-4972-8ca4-e8c1b5473601"
      },
      "outputs": [
        {
          "output_type": "stream",
          "name": "stdout",
          "text": [
            "[INFO] creating 'train' set...\n",
            "[INFO] 706 total images in 'train' set\n",
            "[INFO] creating 'test' set...\n",
            "[INFO] 88 total images in 'test' set\n",
            "[INFO] creating 'val' set...\n",
            "[INFO] 89 total images in 'val' set\n",
            "[INFO] writing classes...\n"
          ]
        }
      ],
      "source": [
        "! python /content/code/build_dataset.py"
      ]
    },
    {
      "cell_type": "code",
      "source": [
        "%cd code"
      ],
      "metadata": {
        "id": "-d1lnFiSiwSU",
        "colab": {
          "base_uri": "https://localhost:8080/"
        },
        "outputId": "2533e9e3-0ec5-4183-b358-e60707460ef1"
      },
      "execution_count": 2,
      "outputs": [
        {
          "output_type": "stream",
          "name": "stdout",
          "text": [
            "/content/code\n"
          ]
        }
      ]
    },
    {
      "cell_type": "code",
      "source": [
        "!pip install virtualenv\n",
        "!virtualenv retina\n",
        "!retina/bin/pip install -r requirements.txt\n",
        "import sys\n",
        "sys.path.append(\"retina/lib/python3.7/site-packages\")"
      ],
      "metadata": {
        "id": "clNHlQ-38dxm",
        "colab": {
          "base_uri": "https://localhost:8080/"
        },
        "outputId": "82941721-eabe-4a1a-a190-01eea668c9d3"
      },
      "execution_count": 77,
      "outputs": [
        {
          "output_type": "stream",
          "name": "stdout",
          "text": [
            "Looking in indexes: https://pypi.org/simple, https://us-python.pkg.dev/colab-wheels/public/simple/\n",
            "Requirement already satisfied: virtualenv in /usr/local/lib/python3.7/dist-packages (20.16.5)\n",
            "Requirement already satisfied: importlib-metadata>=4.8.3 in /usr/local/lib/python3.7/dist-packages (from virtualenv) (4.12.0)\n",
            "Requirement already satisfied: distlib<1,>=0.3.5 in /usr/local/lib/python3.7/dist-packages (from virtualenv) (0.3.6)\n",
            "Requirement already satisfied: platformdirs<3,>=2.4 in /usr/local/lib/python3.7/dist-packages (from virtualenv) (2.5.2)\n",
            "Requirement already satisfied: filelock<4,>=3.4.1 in /usr/local/lib/python3.7/dist-packages (from virtualenv) (3.8.0)\n",
            "Requirement already satisfied: zipp>=0.5 in /usr/local/lib/python3.7/dist-packages (from importlib-metadata>=4.8.3->virtualenv) (3.8.1)\n",
            "Requirement already satisfied: typing-extensions>=3.6.4 in /usr/local/lib/python3.7/dist-packages (from importlib-metadata>=4.8.3->virtualenv) (4.1.1)\n",
            "created virtual environment CPython3.7.14.final.0-64 in 545ms\n",
            "  creator CPython3Posix(dest=/content/code/retina, clear=False, no_vcs_ignore=False, global=False)\n",
            "  seeder FromAppData(download=False, pip=bundle, setuptools=bundle, wheel=bundle, via=copy, app_data_dir=/root/.local/share/virtualenv)\n",
            "    added seed packages: Keras==2.3.1, Keras_Applications==1.0.8, Keras_Preprocessing==1.1.2, Markdown==3.4.1, MarkupSafe==2.1.1, Pillow==9.2.0, PyYAML==6.0, Pygments==2.13.0, Werkzeug==2.2.2, absl_py==0.15.0, aggdraw==1.3.15, astor==0.8.1, astunparse==1.6.3, backcall==0.2.0, cached_property==1.5.2, cachetools==4.2.4, certifi==2022.6.15, charset_normalizer==2.1.1, clang==5.0, colorama==0.4.5, cycler==0.11.0, debugpy==1.6.3, decorator==5.1.1, entrypoints==0.4, flatbuffers==1.12, fonttools==4.36.0, gast==0.4.0, google_auth==1.35.0, google_auth_oauthlib==0.4.6, google_pasta==0.2.0, grpcio==1.34.1, h5py==2.10.0, idna==3.3, importlib_metadata==4.12.0, imutils==0.5.4, ipykernel==6.15.1, ipython==7.33.0, jedi==0.18.1, jupyter_client==7.3.5, jupyter_core==4.11.1, keras_nightly==2.5.0.dev2021032900, keras_resnet==0.2.0, kiwisolver==1.4.4, libclang==14.0.6, matplotlib==3.5.3, matplotlib_inline==0.1.6, nest_asyncio==1.5.5, numpy==1.19.5, oauthlib==3.2.0, opencv_python==4.6.0.66, opt_einsum==3.3.0, packaging==21.3, pandas==1.3.5, parso==0.8.3, pexpect==4.8.0, pickleshare==0.7.5, pip==22.2.2, progressbar2==4.0.0, progressbar==2.5, prompt_toolkit==3.0.30, protobuf==3.19.6, psutil==5.9.1, ptyprocess==0.7.0, pyasn1==0.4.8, pyasn1_modules==0.2.8, pydot==1.4.2, pyparsing==3.0.9, python_dateutil==2.8.2, python_utils==3.3.3, pytz==2022.2.1, pyzmq==23.2.0, requests==2.28.1, requests_oauthlib==1.3.1, rsa==4.9, scipy==1.4.1, setuptools==65.3.0, six==1.15.0, tensorboard==2.10.1, tensorboard_data_server==0.6.1, tensorboard_plugin_wit==1.8.1, tensorflow==2.5.0, tensorflow_estimator==2.5.0, tensorflow_gpu_estimator==2.1.0, tensorflow_io_gcs_filesystem==0.27.0, termcolor==1.1.0, tornado==6.2, tqdm==4.64.0, traitlets==5.3.0, typing_extensions==3.7.4.3, urllib3==1.26.12, visualkeras==0.0.2, wcwidth==0.2.5, wheel==0.37.1, wincertstore==0.2, wrapt==1.12.1, zipp==3.8.1\n",
            "  activators BashActivator,CShellActivator,FishActivator,NushellActivator,PowerShellActivator,PythonActivator\n",
            "Looking in indexes: https://pypi.org/simple, https://us-python.pkg.dev/colab-wheels/public/simple/\n",
            "Collecting absl-py==1.2.0\n",
            "  Using cached absl_py-1.2.0-py3-none-any.whl (123 kB)\n",
            "Requirement already satisfied: aggdraw==1.3.15 in ./retina/lib/python3.7/site-packages (from -r requirements.txt (line 2)) (1.3.15)\n",
            "Requirement already satisfied: astor==0.8.1 in ./retina/lib/python3.7/site-packages (from -r requirements.txt (line 3)) (0.8.1)\n",
            "Requirement already satisfied: backcall==0.2.0 in ./retina/lib/python3.7/site-packages (from -r requirements.txt (line 4)) (0.2.0)\n",
            "Requirement already satisfied: cachetools==4.2.4 in ./retina/lib/python3.7/site-packages (from -r requirements.txt (line 5)) (4.2.4)\n",
            "Requirement already satisfied: certifi==2022.6.15 in ./retina/lib/python3.7/site-packages (from -r requirements.txt (line 6)) (2022.6.15)\n",
            "Requirement already satisfied: charset-normalizer==2.1.1 in ./retina/lib/python3.7/site-packages (from -r requirements.txt (line 7)) (2.1.1)\n",
            "Requirement already satisfied: colorama==0.4.5 in ./retina/lib/python3.7/site-packages (from -r requirements.txt (line 8)) (0.4.5)\n",
            "Requirement already satisfied: cycler==0.11.0 in ./retina/lib/python3.7/site-packages (from -r requirements.txt (line 9)) (0.11.0)\n",
            "Requirement already satisfied: debugpy==1.6.3 in ./retina/lib/python3.7/site-packages (from -r requirements.txt (line 10)) (1.6.3)\n",
            "Requirement already satisfied: decorator==5.1.1 in ./retina/lib/python3.7/site-packages (from -r requirements.txt (line 11)) (5.1.1)\n",
            "Requirement already satisfied: entrypoints==0.4 in ./retina/lib/python3.7/site-packages (from -r requirements.txt (line 12)) (0.4)\n",
            "Requirement already satisfied: fonttools==4.36.0 in ./retina/lib/python3.7/site-packages (from -r requirements.txt (line 13)) (4.36.0)\n",
            "Collecting gast==0.2.2\n",
            "  Using cached gast-0.2.2-py3-none-any.whl\n",
            "Requirement already satisfied: google-auth==1.35.0 in ./retina/lib/python3.7/site-packages (from -r requirements.txt (line 15)) (1.35.0)\n",
            "Requirement already satisfied: google-auth-oauthlib==0.4.6 in ./retina/lib/python3.7/site-packages (from -r requirements.txt (line 16)) (0.4.6)\n",
            "Requirement already satisfied: google-pasta==0.2.0 in ./retina/lib/python3.7/site-packages (from -r requirements.txt (line 17)) (0.2.0)\n",
            "Collecting grpcio==1.47.0\n",
            "  Using cached grpcio-1.47.0-cp37-cp37m-manylinux_2_17_x86_64.manylinux2014_x86_64.whl (4.5 MB)\n",
            "Requirement already satisfied: h5py==2.10.0 in ./retina/lib/python3.7/site-packages (from -r requirements.txt (line 19)) (2.10.0)\n",
            "Requirement already satisfied: idna==3.3 in ./retina/lib/python3.7/site-packages (from -r requirements.txt (line 20)) (3.3)\n",
            "Requirement already satisfied: importlib-metadata==4.12.0 in ./retina/lib/python3.7/site-packages (from -r requirements.txt (line 21)) (4.12.0)\n",
            "Requirement already satisfied: imutils==0.5.4 in ./retina/lib/python3.7/site-packages (from -r requirements.txt (line 22)) (0.5.4)\n",
            "Requirement already satisfied: ipykernel==6.15.1 in ./retina/lib/python3.7/site-packages (from -r requirements.txt (line 23)) (6.15.1)\n",
            "Requirement already satisfied: ipython==7.33.0 in ./retina/lib/python3.7/site-packages (from -r requirements.txt (line 24)) (7.33.0)\n",
            "Requirement already satisfied: jedi==0.18.1 in ./retina/lib/python3.7/site-packages (from -r requirements.txt (line 25)) (0.18.1)\n",
            "Requirement already satisfied: jupyter_client==7.3.5 in ./retina/lib/python3.7/site-packages (from -r requirements.txt (line 26)) (7.3.5)\n",
            "Requirement already satisfied: jupyter_core==4.11.1 in ./retina/lib/python3.7/site-packages (from -r requirements.txt (line 27)) (4.11.1)\n",
            "Requirement already satisfied: Keras==2.3.1 in ./retina/lib/python3.7/site-packages (from -r requirements.txt (line 28)) (2.3.1)\n",
            "Requirement already satisfied: Keras-Applications==1.0.8 in ./retina/lib/python3.7/site-packages (from -r requirements.txt (line 29)) (1.0.8)\n",
            "Requirement already satisfied: Keras-Preprocessing==1.1.2 in ./retina/lib/python3.7/site-packages (from -r requirements.txt (line 30)) (1.1.2)\n",
            "Requirement already satisfied: keras-resnet==0.2.0 in ./retina/lib/python3.7/site-packages (from -r requirements.txt (line 31)) (0.2.0)\n",
            "Requirement already satisfied: kiwisolver==1.4.4 in ./retina/lib/python3.7/site-packages (from -r requirements.txt (line 32)) (1.4.4)\n",
            "Requirement already satisfied: Markdown==3.4.1 in ./retina/lib/python3.7/site-packages (from -r requirements.txt (line 33)) (3.4.1)\n",
            "Requirement already satisfied: MarkupSafe==2.1.1 in ./retina/lib/python3.7/site-packages (from -r requirements.txt (line 34)) (2.1.1)\n",
            "Requirement already satisfied: matplotlib==3.5.3 in ./retina/lib/python3.7/site-packages (from -r requirements.txt (line 35)) (3.5.3)\n",
            "Requirement already satisfied: matplotlib-inline==0.1.6 in ./retina/lib/python3.7/site-packages (from -r requirements.txt (line 36)) (0.1.6)\n",
            "Requirement already satisfied: nest-asyncio==1.5.5 in ./retina/lib/python3.7/site-packages (from -r requirements.txt (line 37)) (1.5.5)\n",
            "Collecting numpy==1.18.5\n",
            "  Using cached numpy-1.18.5-cp37-cp37m-manylinux1_x86_64.whl (20.1 MB)\n",
            "Requirement already satisfied: oauthlib==3.2.0 in ./retina/lib/python3.7/site-packages (from -r requirements.txt (line 39)) (3.2.0)\n",
            "Requirement already satisfied: opencv-python==4.6.0.66 in ./retina/lib/python3.7/site-packages (from -r requirements.txt (line 40)) (4.6.0.66)\n",
            "Requirement already satisfied: opt-einsum==3.3.0 in ./retina/lib/python3.7/site-packages (from -r requirements.txt (line 41)) (3.3.0)\n",
            "Requirement already satisfied: packaging==21.3 in ./retina/lib/python3.7/site-packages (from -r requirements.txt (line 42)) (21.3)\n",
            "Requirement already satisfied: pandas==1.3.5 in ./retina/lib/python3.7/site-packages (from -r requirements.txt (line 43)) (1.3.5)\n",
            "Requirement already satisfied: parso==0.8.3 in ./retina/lib/python3.7/site-packages (from -r requirements.txt (line 44)) (0.8.3)\n",
            "Requirement already satisfied: pickleshare==0.7.5 in ./retina/lib/python3.7/site-packages (from -r requirements.txt (line 45)) (0.7.5)\n",
            "Requirement already satisfied: Pillow==9.2.0 in ./retina/lib/python3.7/site-packages (from -r requirements.txt (line 46)) (9.2.0)\n",
            "Requirement already satisfied: pip==22.2.2 in ./retina/lib/python3.7/site-packages (from -r requirements.txt (line 47)) (22.2.2)\n",
            "Requirement already satisfied: progressbar==2.5 in ./retina/lib/python3.7/site-packages (from -r requirements.txt (line 48)) (2.5)\n",
            "Requirement already satisfied: progressbar2==4.0.0 in ./retina/lib/python3.7/site-packages (from -r requirements.txt (line 49)) (4.0.0)\n",
            "Requirement already satisfied: prompt-toolkit==3.0.30 in ./retina/lib/python3.7/site-packages (from -r requirements.txt (line 50)) (3.0.30)\n",
            "Collecting protobuf==3.20.0\n",
            "  Using cached protobuf-3.20.0-cp37-cp37m-manylinux_2_5_x86_64.manylinux1_x86_64.whl (1.0 MB)\n",
            "Requirement already satisfied: psutil==5.9.1 in ./retina/lib/python3.7/site-packages (from -r requirements.txt (line 52)) (5.9.1)\n",
            "Requirement already satisfied: pyasn1==0.4.8 in ./retina/lib/python3.7/site-packages (from -r requirements.txt (line 53)) (0.4.8)\n",
            "Requirement already satisfied: pyasn1-modules==0.2.8 in ./retina/lib/python3.7/site-packages (from -r requirements.txt (line 54)) (0.2.8)\n",
            "Requirement already satisfied: pydot==1.4.2 in ./retina/lib/python3.7/site-packages (from -r requirements.txt (line 55)) (1.4.2)\n",
            "Requirement already satisfied: Pygments==2.13.0 in ./retina/lib/python3.7/site-packages (from -r requirements.txt (line 56)) (2.13.0)\n",
            "Requirement already satisfied: pyparsing==3.0.9 in ./retina/lib/python3.7/site-packages (from -r requirements.txt (line 57)) (3.0.9)\n",
            "Requirement already satisfied: python-dateutil==2.8.2 in ./retina/lib/python3.7/site-packages (from -r requirements.txt (line 58)) (2.8.2)\n",
            "Requirement already satisfied: python-utils==3.3.3 in ./retina/lib/python3.7/site-packages (from -r requirements.txt (line 59)) (3.3.3)\n",
            "Requirement already satisfied: pytz==2022.2.1 in ./retina/lib/python3.7/site-packages (from -r requirements.txt (line 60)) (2022.2.1)\n",
            "Requirement already satisfied: PyYAML==6.0 in ./retina/lib/python3.7/site-packages (from -r requirements.txt (line 62)) (6.0)\n",
            "Requirement already satisfied: pyzmq==23.2.0 in ./retina/lib/python3.7/site-packages (from -r requirements.txt (line 63)) (23.2.0)\n",
            "Requirement already satisfied: requests==2.28.1 in ./retina/lib/python3.7/site-packages (from -r requirements.txt (line 64)) (2.28.1)\n",
            "Requirement already satisfied: requests-oauthlib==1.3.1 in ./retina/lib/python3.7/site-packages (from -r requirements.txt (line 65)) (1.3.1)\n",
            "Requirement already satisfied: rsa==4.9 in ./retina/lib/python3.7/site-packages (from -r requirements.txt (line 66)) (4.9)\n",
            "Requirement already satisfied: scipy==1.4.1 in ./retina/lib/python3.7/site-packages (from -r requirements.txt (line 67)) (1.4.1)\n",
            "Requirement already satisfied: setuptools==65.3.0 in ./retina/lib/python3.7/site-packages (from -r requirements.txt (line 68)) (65.3.0)\n",
            "Collecting six==1.16.0\n",
            "  Using cached six-1.16.0-py2.py3-none-any.whl (11 kB)\n",
            "Collecting tensorboard==2.1.1\n",
            "  Using cached tensorboard-2.1.1-py3-none-any.whl (3.8 MB)\n",
            "Collecting tensorflow-gpu==2.1.0\n",
            "  Using cached tensorflow_gpu-2.1.0-cp37-cp37m-manylinux2010_x86_64.whl (421.8 MB)\n",
            "Requirement already satisfied: tensorflow-gpu-estimator==2.1.0 in ./retina/lib/python3.7/site-packages (from -r requirements.txt (line 72)) (2.1.0)\n",
            "Requirement already satisfied: termcolor==1.1.0 in ./retina/lib/python3.7/site-packages (from -r requirements.txt (line 73)) (1.1.0)\n",
            "Requirement already satisfied: tornado==6.2 in ./retina/lib/python3.7/site-packages (from -r requirements.txt (line 74)) (6.2)\n",
            "Requirement already satisfied: tqdm==4.64.0 in ./retina/lib/python3.7/site-packages (from -r requirements.txt (line 75)) (4.64.0)\n",
            "Requirement already satisfied: traitlets==5.3.0 in ./retina/lib/python3.7/site-packages (from -r requirements.txt (line 76)) (5.3.0)\n",
            "Collecting typing_extensions==4.3.0\n",
            "  Using cached typing_extensions-4.3.0-py3-none-any.whl (25 kB)\n",
            "Requirement already satisfied: urllib3==1.26.12 in ./retina/lib/python3.7/site-packages (from -r requirements.txt (line 78)) (1.26.12)\n",
            "Requirement already satisfied: visualkeras==0.0.2 in ./retina/lib/python3.7/site-packages (from -r requirements.txt (line 79)) (0.0.2)\n",
            "Requirement already satisfied: wcwidth==0.2.5 in ./retina/lib/python3.7/site-packages (from -r requirements.txt (line 80)) (0.2.5)\n",
            "Requirement already satisfied: Werkzeug==2.2.2 in ./retina/lib/python3.7/site-packages (from -r requirements.txt (line 81)) (2.2.2)\n",
            "Requirement already satisfied: wheel==0.37.1 in ./retina/lib/python3.7/site-packages (from -r requirements.txt (line 82)) (0.37.1)\n",
            "Requirement already satisfied: wincertstore==0.2 in ./retina/lib/python3.7/site-packages (from -r requirements.txt (line 83)) (0.2)\n",
            "Collecting wrapt==1.14.1\n",
            "  Using cached wrapt-1.14.1-cp37-cp37m-manylinux_2_5_x86_64.manylinux1_x86_64.manylinux_2_17_x86_64.manylinux2014_x86_64.whl (75 kB)\n",
            "Requirement already satisfied: zipp==3.8.1 in ./retina/lib/python3.7/site-packages (from -r requirements.txt (line 85)) (3.8.1)\n",
            "Requirement already satisfied: pexpect>4.3 in ./retina/lib/python3.7/site-packages (from ipython==7.33.0->-r requirements.txt (line 24)) (4.8.0)\n",
            "Collecting tensorflow-estimator<2.2.0,>=2.1.0rc0\n",
            "  Using cached tensorflow_estimator-2.1.0-py2.py3-none-any.whl (448 kB)\n",
            "Requirement already satisfied: ptyprocess>=0.5 in ./retina/lib/python3.7/site-packages (from pexpect>4.3->ipython==7.33.0->-r requirements.txt (line 24)) (0.7.0)\n",
            "Installing collected packages: tensorflow-estimator, wrapt, typing_extensions, six, protobuf, numpy, gast, absl-py, grpcio, tensorboard, tensorflow-gpu\n",
            "  Attempting uninstall: tensorflow-estimator\n",
            "    Found existing installation: tensorflow-estimator 2.5.0\n",
            "    Uninstalling tensorflow-estimator-2.5.0:\n",
            "      Successfully uninstalled tensorflow-estimator-2.5.0\n",
            "  Attempting uninstall: wrapt\n",
            "    Found existing installation: wrapt 1.12.1\n",
            "    Uninstalling wrapt-1.12.1:\n",
            "      Successfully uninstalled wrapt-1.12.1\n",
            "  Attempting uninstall: typing_extensions\n",
            "    Found existing installation: typing-extensions 3.7.4.3\n",
            "    Uninstalling typing-extensions-3.7.4.3:\n",
            "      Successfully uninstalled typing-extensions-3.7.4.3\n",
            "  Attempting uninstall: six\n",
            "    Found existing installation: six 1.15.0\n",
            "    Uninstalling six-1.15.0:\n",
            "      Successfully uninstalled six-1.15.0\n",
            "  Attempting uninstall: protobuf\n",
            "    Found existing installation: protobuf 3.19.6\n",
            "    Uninstalling protobuf-3.19.6:\n",
            "      Successfully uninstalled protobuf-3.19.6\n",
            "  Attempting uninstall: numpy\n",
            "    Found existing installation: numpy 1.19.5\n",
            "    Uninstalling numpy-1.19.5:\n",
            "      Successfully uninstalled numpy-1.19.5\n",
            "  Attempting uninstall: gast\n",
            "    Found existing installation: gast 0.4.0\n",
            "    Uninstalling gast-0.4.0:\n",
            "      Successfully uninstalled gast-0.4.0\n",
            "  Attempting uninstall: absl-py\n",
            "    Found existing installation: absl-py 0.15.0\n",
            "    Uninstalling absl-py-0.15.0:\n",
            "      Successfully uninstalled absl-py-0.15.0\n",
            "  Attempting uninstall: grpcio\n",
            "    Found existing installation: grpcio 1.34.1\n",
            "    Uninstalling grpcio-1.34.1:\n",
            "      Successfully uninstalled grpcio-1.34.1\n",
            "  Attempting uninstall: tensorboard\n",
            "    Found existing installation: tensorboard 2.10.1\n",
            "    Uninstalling tensorboard-2.10.1:\n",
            "      Successfully uninstalled tensorboard-2.10.1\n",
            "\u001b[31mERROR: pip's dependency resolver does not currently take into account all the packages that are installed. This behaviour is the source of the following dependency conflicts.\n",
            "tensorflow 2.5.0 requires absl-py~=0.10, but you have absl-py 1.2.0 which is incompatible.\n",
            "tensorflow 2.5.0 requires gast==0.4.0, but you have gast 0.2.2 which is incompatible.\n",
            "tensorflow 2.5.0 requires grpcio~=1.34.0, but you have grpcio 1.47.0 which is incompatible.\n",
            "tensorflow 2.5.0 requires h5py~=3.1.0, but you have h5py 2.10.0 which is incompatible.\n",
            "tensorflow 2.5.0 requires numpy~=1.19.2, but you have numpy 1.18.5 which is incompatible.\n",
            "tensorflow 2.5.0 requires six~=1.15.0, but you have six 1.16.0 which is incompatible.\n",
            "tensorflow 2.5.0 requires tensorboard~=2.5, but you have tensorboard 2.1.1 which is incompatible.\n",
            "tensorflow 2.5.0 requires tensorflow-estimator<2.6.0,>=2.5.0rc0, but you have tensorflow-estimator 2.1.0 which is incompatible.\n",
            "tensorflow 2.5.0 requires typing-extensions~=3.7.4, but you have typing-extensions 4.3.0 which is incompatible.\n",
            "tensorflow 2.5.0 requires wrapt~=1.12.1, but you have wrapt 1.14.1 which is incompatible.\u001b[0m\u001b[31m\n",
            "\u001b[0mSuccessfully installed absl-py-1.2.0 gast-0.2.2 grpcio-1.47.0 numpy-1.18.5 protobuf-3.20.0 six-1.16.0 tensorboard-2.1.1 tensorflow-estimator-2.1.0 tensorflow-gpu-2.1.0 typing_extensions-4.3.0 wrapt-1.14.1\n"
          ]
        }
      ]
    },
    {
      "cell_type": "code",
      "source": [
        "!pip install virtualenv\n",
        "!virtualenv retina2\n",
        "!retina/bin/pip install -r requirements.txt\n",
        "import sys\n",
        "sys.path.append(\"retina/lib/python3.7/site-packages\")"
      ],
      "metadata": {
        "id": "2uy5y2dygdYO"
      },
      "execution_count": null,
      "outputs": []
    },
    {
      "cell_type": "markdown",
      "metadata": {
        "id": "CnnWeRvNeNwv"
      },
      "source": [
        "# Train Model <a class=\"anchor\" id=\"chapter2\"></a>"
      ]
    },
    {
      "cell_type": "code",
      "source": [
        "! source /content/code/retina/bin/activate"
      ],
      "metadata": {
        "id": "0YX5wzatpkbf"
      },
      "execution_count": 87,
      "outputs": []
    },
    {
      "cell_type": "code",
      "execution_count": 115,
      "metadata": {
        "id": "PDFRg-2ybnR4",
        "colab": {
          "base_uri": "https://localhost:8080/"
        },
        "outputId": "12dbd429-2407-4a8f-8a10-f85303013c27"
      },
      "outputs": [
        {
          "output_type": "stream",
          "name": "stdout",
          "text": [
            "2022-10-02 12:35:45.803814: I tensorflow/stream_executor/cuda/cuda_gpu_executor.cc:939] successful NUMA node read from SysFS had negative value (-1), but there must be at least one NUMA node, so returning NUMA node zero\n",
            "2022-10-02 12:35:45.813655: I tensorflow/stream_executor/cuda/cuda_gpu_executor.cc:939] successful NUMA node read from SysFS had negative value (-1), but there must be at least one NUMA node, so returning NUMA node zero\n",
            "2022-10-02 12:35:45.814254: I tensorflow/stream_executor/cuda/cuda_gpu_executor.cc:939] successful NUMA node read from SysFS had negative value (-1), but there must be at least one NUMA node, so returning NUMA node zero\n",
            "2022-10-02 12:35:45.815449: I tensorflow/stream_executor/cuda/cuda_gpu_executor.cc:939] successful NUMA node read from SysFS had negative value (-1), but there must be at least one NUMA node, so returning NUMA node zero\n",
            "2022-10-02 12:35:45.816037: I tensorflow/stream_executor/cuda/cuda_gpu_executor.cc:939] successful NUMA node read from SysFS had negative value (-1), but there must be at least one NUMA node, so returning NUMA node zero\n",
            "2022-10-02 12:35:45.816634: I tensorflow/stream_executor/cuda/cuda_gpu_executor.cc:939] successful NUMA node read from SysFS had negative value (-1), but there must be at least one NUMA node, so returning NUMA node zero\n",
            "2022-10-02 12:35:46.502635: I tensorflow/stream_executor/cuda/cuda_gpu_executor.cc:939] successful NUMA node read from SysFS had negative value (-1), but there must be at least one NUMA node, so returning NUMA node zero\n",
            "2022-10-02 12:35:46.503387: I tensorflow/stream_executor/cuda/cuda_gpu_executor.cc:939] successful NUMA node read from SysFS had negative value (-1), but there must be at least one NUMA node, so returning NUMA node zero\n",
            "2022-10-02 12:35:46.503994: I tensorflow/stream_executor/cuda/cuda_gpu_executor.cc:939] successful NUMA node read from SysFS had negative value (-1), but there must be at least one NUMA node, so returning NUMA node zero\n",
            "2022-10-02 12:35:46.504583: I tensorflow/core/common_runtime/gpu/gpu_device.cc:1525] Created device /job:localhost/replica:0/task:0/device:GPU:0 with 13823 MB memory:  -> device: 0, name: Tesla T4, pci bus id: 0000:00:04.0, compute capability: 7.5\n",
            "1 Physical GPUs, 1 Logical GPUs\n",
            "2022-10-02 12:35:46.506017: I tensorflow/stream_executor/cuda/cuda_gpu_executor.cc:939] successful NUMA node read from SysFS had negative value (-1), but there must be at least one NUMA node, so returning NUMA node zero\n",
            "2022-10-02 12:35:46.506628: I tensorflow/stream_executor/cuda/cuda_gpu_executor.cc:939] successful NUMA node read from SysFS had negative value (-1), but there must be at least one NUMA node, so returning NUMA node zero\n",
            "2022-10-02 12:35:46.507163: I tensorflow/stream_executor/cuda/cuda_gpu_executor.cc:939] successful NUMA node read from SysFS had negative value (-1), but there must be at least one NUMA node, so returning NUMA node zero\n",
            "2022-10-02 12:35:46.507793: I tensorflow/stream_executor/cuda/cuda_gpu_executor.cc:939] successful NUMA node read from SysFS had negative value (-1), but there must be at least one NUMA node, so returning NUMA node zero\n",
            "2022-10-02 12:35:46.508434: I tensorflow/stream_executor/cuda/cuda_gpu_executor.cc:939] successful NUMA node read from SysFS had negative value (-1), but there must be at least one NUMA node, so returning NUMA node zero\n",
            "2022-10-02 12:35:46.509015: I tensorflow/core/common_runtime/gpu/gpu_device.cc:1525] Created device /job:localhost/replica:0/task:0/device:GPU:0 with 13823 MB memory:  -> device: 0, name: Tesla T4, pci bus id: 0000:00:04.0, compute capability: 7.5\n",
            "Creating model, this may take a second...\n",
            "WARNING:tensorflow:AutoGraph could not transform <bound method DepthwiseConv2D.call of <keras_retinanet.models.mobilenet.DepthwiseConv2D object at 0x7f412ab187d0>> and will run it as-is.\n",
            "Please report this to the TensorFlow team. When filing the bug, set the verbosity to 10 (on Linux, `export AUTOGRAPH_VERBOSITY=10`) and attach the full output.\n",
            "Cause: 'arguments' object has no attribute 'posonlyargs'\n",
            "To silence this warning, decorate the function with @tf.autograph.experimental.do_not_convert\n",
            "Traceback (most recent call last):\n",
            "  File \"/content/code/train_mobilenet.py\", line 105, in <module>\n",
            "    model = create_model(num_classes=num_classes, alpha=args.alpha)\n",
            "  File \"/content/code/train_mobilenet.py\", line 41, in create_model\n",
            "    return MobileNetRetinaNet(image, num_classes=num_classes, alpha=alpha)\n",
            "  File \"/content/code/keras_retinanet/models/mobilenet.py\", line 616, in MobileNetRetinaNet\n",
            "    inputs=inputs, num_classes=num_classes, backbone=mobilenet, *args, **kwargs)\n",
            "  File \"/content/code/keras_retinanet/models/retinanet.py\", line 214, in retinanet_bbox\n",
            "    model = retinanet(inputs=inputs, num_classes=num_classes, *args, **kwargs)\n",
            "  File \"/content/code/keras_retinanet/models/retinanet.py\", line 193, in retinanet\n",
            "    submodels = default_submodels(num_classes, anchor_parameters)\n",
            "  File \"/content/code/keras_retinanet/models/retinanet.py\", line 158, in default_submodels\n",
            "    ('classification', default_classification_model(num_classes, anchor_parameters.num_anchors()))\n",
            "  File \"/content/code/keras_retinanet/models/retinanet.py\", line 72, in default_classification_model\n",
            "    )(outputs)\n",
            "  File \"/content/code/retina/lib/python3.7/site-packages/keras/utils/traceback_utils.py\", line 67, in error_handler\n",
            "    raise e.with_traceback(filtered_tb) from None\n",
            "  File \"/content/code/keras_retinanet/initializers.py\", line 38, in __call__\n",
            "    result = np.ones(shape, dtype=dtype) * -math.log((1 - self.probability) / self.probability)\n",
            "  File \"/content/code/retina/lib/python3.7/site-packages/numpy/core/numeric.py\", line 207, in ones\n",
            "    a = empty(shape, dtype, order)\n",
            "TypeError: data type not understood\n"
          ]
        }
      ],
      "source": [
        "! /content/code/retina/bin/python /content/code/train_mobilenet.py"
      ]
    },
    {
      "cell_type": "code",
      "execution_count": null,
      "metadata": {
        "id": "wMdRkWy0Ibbt",
        "colab": {
          "base_uri": "https://localhost:8080/",
          "height": 35
        },
        "outputId": "cb20d3c5-34a1-4e16-8ec5-df7da1f22fc2"
      },
      "outputs": [
        {
          "output_type": "execute_result",
          "data": {
            "text/plain": [
              "'/content/code/out_mobilenet+retinanet.zip'"
            ],
            "application/vnd.google.colaboratory.intrinsic+json": {
              "type": "string"
            }
          },
          "metadata": {},
          "execution_count": 22
        }
      ],
      "source": [
        "import shutil\n",
        "shutil.make_archive(\"out_mobilenet+retinanet\", \"zip\", \"/content/code/snapshots/mobilenet_a1_s8_rdc2\")"
      ]
    },
    {
      "cell_type": "code",
      "source": [
        "shutil.copy('/content/code/snapshots/mobilenet_a1_s8_rdc2/mobilenet_a1_s8_rdc2_best.h5', \"/content/gdrive/MyDrive/retinanet.h5\")"
      ],
      "metadata": {
        "colab": {
          "base_uri": "https://localhost:8080/",
          "height": 35
        },
        "id": "U41Ic9TX6xOL",
        "outputId": "5c6e2b5d-fc18-4cb8-8920-4c2d8e95f673"
      },
      "execution_count": null,
      "outputs": [
        {
          "output_type": "execute_result",
          "data": {
            "text/plain": [
              "'/content/gdrive/MyDrive/retinanet.h5'"
            ],
            "application/vnd.google.colaboratory.intrinsic+json": {
              "type": "string"
            }
          },
          "metadata": {},
          "execution_count": 26
        }
      ]
    },
    {
      "cell_type": "code",
      "execution_count": null,
      "metadata": {
        "id": "smimMOUXJ8ku",
        "colab": {
          "base_uri": "https://localhost:8080/",
          "height": 35
        },
        "outputId": "4b182dbc-93ef-42d3-8281-aca4fa1898ba"
      },
      "outputs": [
        {
          "output_type": "execute_result",
          "data": {
            "text/plain": [
              "'/content/gdrive/MyDrive/out_mobilenet+retinanet.zip'"
            ],
            "application/vnd.google.colaboratory.intrinsic+json": {
              "type": "string"
            }
          },
          "metadata": {},
          "execution_count": 24
        }
      ],
      "source": [
        "shutil.copy('/content/code/out_mobilenet+retinanet.zip', \"/content/gdrive/MyDrive\")"
      ]
    },
    {
      "cell_type": "markdown",
      "source": [
        "## Transfer to openvino"
      ],
      "metadata": {
        "id": "mgfS9l6o69S7"
      }
    },
    {
      "cell_type": "code",
      "source": [
        "! /content/code/retina/bin/python /content/code/to-openvino.py"
      ],
      "metadata": {
        "id": "9NAGlWr3H2O_"
      },
      "execution_count": null,
      "outputs": []
    },
    {
      "cell_type": "code",
      "source": [
        "! git pull"
      ],
      "metadata": {
        "colab": {
          "base_uri": "https://localhost:8080/"
        },
        "id": "SU7RwrNb7k6T",
        "outputId": "91f1e1e1-0e9a-44a8-c804-f6f481b2cf9d"
      },
      "execution_count": 92,
      "outputs": [
        {
          "output_type": "stream",
          "name": "stdout",
          "text": [
            "remote: Enumerating objects: 9, done.\u001b[K\n",
            "remote: Counting objects:  11% (1/9)\u001b[K\rremote: Counting objects:  22% (2/9)\u001b[K\rremote: Counting objects:  33% (3/9)\u001b[K\rremote: Counting objects:  44% (4/9)\u001b[K\rremote: Counting objects:  55% (5/9)\u001b[K\rremote: Counting objects:  66% (6/9)\u001b[K\rremote: Counting objects:  77% (7/9)\u001b[K\rremote: Counting objects:  88% (8/9)\u001b[K\rremote: Counting objects: 100% (9/9)\u001b[K\rremote: Counting objects: 100% (9/9), done.\u001b[K\n",
            "remote: Compressing objects: 100% (1/1)\u001b[K\rremote: Compressing objects: 100% (1/1), done.\u001b[K\n",
            "remote: Total 5 (delta 4), reused 5 (delta 4), pack-reused 0\u001b[K\n",
            "Unpacking objects:  20% (1/5)   \rUnpacking objects:  40% (2/5)   \rUnpacking objects:  60% (3/5)   \rUnpacking objects:  80% (4/5)   \rUnpacking objects: 100% (5/5)   \rUnpacking objects: 100% (5/5), done.\n",
            "From https://github.com/amirhosein-prdv/keras-RetinaNet-mobileNet\n",
            "   c20e6f6..baea781  Colab      -> origin/Colab\n",
            "Updating c20e6f6..baea781\n",
            "Fast-forward\n",
            " keras_retinanet/models/mobilenet.py | 2 \u001b[32m+\u001b[m\u001b[31m-\u001b[m\n",
            " 1 file changed, 1 insertion(+), 1 deletion(-)\n"
          ]
        }
      ]
    },
    {
      "cell_type": "code",
      "source": [
        "!retina/bin/pip install numpy==1.18.5"
      ],
      "metadata": {
        "colab": {
          "base_uri": "https://localhost:8080/"
        },
        "id": "PWNWx8TyIoZd",
        "outputId": "ea145fd9-9785-4537-eb69-6b43359772b3"
      },
      "execution_count": 114,
      "outputs": [
        {
          "output_type": "stream",
          "name": "stdout",
          "text": [
            "Looking in indexes: https://pypi.org/simple, https://us-python.pkg.dev/colab-wheels/public/simple/\n",
            "Collecting numpy==1.18.5\n",
            "  Using cached numpy-1.18.5-cp37-cp37m-manylinux1_x86_64.whl (20.1 MB)\n",
            "Installing collected packages: numpy\n",
            "  Attempting uninstall: numpy\n",
            "    Found existing installation: numpy 1.18.0\n",
            "    Uninstalling numpy-1.18.0:\n",
            "      Successfully uninstalled numpy-1.18.0\n",
            "Successfully installed numpy-1.18.5\n"
          ]
        }
      ]
    },
    {
      "cell_type": "code",
      "source": [
        "!retina/bin/pip uninstall -y tensorflow keras"
      ],
      "metadata": {
        "colab": {
          "base_uri": "https://localhost:8080/"
        },
        "id": "0UCU0N_qTTOV",
        "outputId": "70b590f4-dcfe-4020-dd8f-50ce1476497a"
      },
      "execution_count": 109,
      "outputs": [
        {
          "output_type": "stream",
          "name": "stdout",
          "text": [
            "Found existing installation: tensorflow 2.7.0+zzzcolab20220506150900\n",
            "Uninstalling tensorflow-2.7.0+zzzcolab20220506150900:\n",
            "  Successfully uninstalled tensorflow-2.7.0+zzzcolab20220506150900\n",
            "Found existing installation: keras 2.7.0\n",
            "Uninstalling keras-2.7.0:\n",
            "  Successfully uninstalled keras-2.7.0\n"
          ]
        }
      ]
    },
    {
      "cell_type": "code",
      "source": [
        "!retina/bin/pip list"
      ],
      "metadata": {
        "colab": {
          "base_uri": "https://localhost:8080/"
        },
        "id": "CEbfuUzpTdZD",
        "outputId": "ed087efc-8870-4a56-d0b3-d233b1f911f9"
      },
      "execution_count": 86,
      "outputs": [
        {
          "output_type": "stream",
          "name": "stdout",
          "text": [
            "Package                      Version\n",
            "---------------------------- -------------------\n",
            "absl-py                      1.2.0\n",
            "aggdraw                      1.3.15\n",
            "astor                        0.8.1\n",
            "astunparse                   1.6.3\n",
            "backcall                     0.2.0\n",
            "cached-property              1.5.2\n",
            "cachetools                   4.2.4\n",
            "certifi                      2022.6.15\n",
            "charset-normalizer           2.1.1\n",
            "clang                        5.0\n",
            "colorama                     0.4.5\n",
            "cycler                       0.11.0\n",
            "debugpy                      1.6.3\n",
            "decorator                    5.1.1\n",
            "entrypoints                  0.4\n",
            "flatbuffers                  22.9.24\n",
            "fonttools                    4.36.0\n",
            "gast                         0.2.2\n",
            "google-auth                  1.35.0\n",
            "google-auth-oauthlib         0.4.6\n",
            "google-pasta                 0.2.0\n",
            "grpcio                       1.47.0\n",
            "h5py                         2.10.0\n",
            "idna                         3.3\n",
            "importlib-metadata           4.12.0\n",
            "imutils                      0.5.4\n",
            "ipykernel                    6.15.1\n",
            "ipython                      7.33.0\n",
            "jedi                         0.18.1\n",
            "jupyter_client               7.3.5\n",
            "jupyter-core                 4.11.1\n",
            "keras                        2.10.0\n",
            "Keras-Applications           1.0.8\n",
            "keras-nightly                2.5.0.dev2021032900\n",
            "Keras-Preprocessing          1.1.2\n",
            "keras-resnet                 0.2.0\n",
            "kiwisolver                   1.4.4\n",
            "libclang                     14.0.6\n",
            "Markdown                     3.4.1\n",
            "MarkupSafe                   2.1.1\n",
            "matplotlib                   3.5.3\n",
            "matplotlib-inline            0.1.6\n",
            "nest-asyncio                 1.5.5\n",
            "numpy                        1.21.6\n",
            "oauthlib                     3.2.0\n",
            "opencv-python                4.6.0.66\n",
            "opt-einsum                   3.3.0\n",
            "packaging                    21.3\n",
            "pandas                       1.3.5\n",
            "parso                        0.8.3\n",
            "pexpect                      4.8.0\n",
            "pickleshare                  0.7.5\n",
            "Pillow                       9.2.0\n",
            "pip                          22.2.2\n",
            "progressbar                  2.5\n",
            "progressbar2                 4.0.0\n",
            "prompt-toolkit               3.0.30\n",
            "protobuf                     3.19.6\n",
            "psutil                       5.9.1\n",
            "ptyprocess                   0.7.0\n",
            "pyasn1                       0.4.8\n",
            "pyasn1-modules               0.2.8\n",
            "pydot                        1.4.2\n",
            "Pygments                     2.13.0\n",
            "pyparsing                    3.0.9\n",
            "python-dateutil              2.8.2\n",
            "python-utils                 3.3.3\n",
            "pytz                         2022.2.1\n",
            "PyYAML                       6.0\n",
            "pyzmq                        23.2.0\n",
            "requests                     2.28.1\n",
            "requests-oauthlib            1.3.1\n",
            "rsa                          4.9\n",
            "scipy                        1.4.1\n",
            "setuptools                   65.3.0\n",
            "six                          1.16.0\n",
            "tensorboard                  2.10.1\n",
            "tensorboard-data-server      0.6.1\n",
            "tensorboard-plugin-wit       1.8.1\n",
            "tensorflow                   2.10.0\n",
            "tensorflow-estimator         2.10.0\n",
            "tensorflow-gpu-estimator     2.1.0\n",
            "tensorflow-io-gcs-filesystem 0.27.0\n",
            "termcolor                    1.1.0\n",
            "tornado                      6.2\n",
            "tqdm                         4.64.0\n",
            "traitlets                    5.3.0\n",
            "typing_extensions            4.3.0\n",
            "urllib3                      1.26.12\n",
            "visualkeras                  0.0.2\n",
            "wcwidth                      0.2.5\n",
            "Werkzeug                     2.2.2\n",
            "wheel                        0.37.1\n",
            "wincertstore                 0.2\n",
            "wrapt                        1.14.1\n",
            "zipp                         3.8.1\n"
          ]
        }
      ]
    },
    {
      "cell_type": "code",
      "source": [],
      "metadata": {
        "id": "73OgfZG0aMI5"
      },
      "execution_count": null,
      "outputs": []
    }
  ],
  "metadata": {
    "accelerator": "GPU",
    "colab": {
      "collapsed_sections": [],
      "provenance": []
    },
    "gpuClass": "standard",
    "kernelspec": {
      "display_name": "Python 3 (ipykernel)",
      "language": "python",
      "name": "python3"
    },
    "language_info": {
      "codemirror_mode": {
        "name": "ipython",
        "version": 3
      },
      "file_extension": ".py",
      "mimetype": "text/x-python",
      "name": "python",
      "nbconvert_exporter": "python",
      "pygments_lexer": "ipython3",
      "version": "3.9.12"
    },
    "vscode": {
      "interpreter": {
        "hash": "26887db7414c774ca4a08daa5f7cc34b972eaabf66beed392d1ef7aa09cd2293"
      }
    }
  },
  "nbformat": 4,
  "nbformat_minor": 0
}